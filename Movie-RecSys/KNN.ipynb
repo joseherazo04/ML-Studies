{
 "cells": [
  {
   "cell_type": "code",
   "execution_count": 63,
   "metadata": {},
   "outputs": [],
   "source": [
    "import os\n",
    "import csv\n",
    "import sys\n",
    "import re\n",
    "import pandas as pd\n",
    "\n",
    "import heapq\n",
    "from collections import defaultdict\n",
    "from operator import itemgetter\n",
    "\n",
    "from surprise import Dataset, Reader, SVD, accuracy, KNNBasic, KNNBaseline, KNNWithMeans\n",
    "from surprise.model_selection import train_test_split\n",
    "from collections import defaultdict\n",
    "import numpy as np"
   ]
  },
  {
   "cell_type": "code",
   "execution_count": 10,
   "metadata": {},
   "outputs": [],
   "source": [
    "class MovieLens:\n",
    "\n",
    "    movieID_to_name = {}\n",
    "    name_to_movieID = {}\n",
    "    ratingsPath = 'C:\\\\Users\\\\joseh\\\\Anaconda Projects\\\\Personal studies\\\\RecSys Course\\\\ml-latest-small\\\\ratings ut.csv'\n",
    "    moviesPath = 'C:\\\\Users\\\\joseh\\\\Anaconda Projects\\\\Personal studies\\\\RecSys Course\\\\ml-latest-small\\\\movies.csv'\n",
    "    \n",
    "    def loadMovieLensLatestSmall(self):\n",
    "\n",
    "        # Look for files relative to the directory we are running from\n",
    "        os.chdir(os.path.dirname(sys.argv[0]))\n",
    "\n",
    "        ratingsDataset = 0\n",
    "        self.movieID_to_name = {}\n",
    "        self.name_to_movieID = {}\n",
    "\n",
    "        reader = Reader(line_format='user item rating timestamp', sep=',', skip_lines=1)\n",
    "\n",
    "        ratingsDataset = Dataset.load_from_file(self.ratingsPath, reader=reader)\n",
    "\n",
    "        with open(self.moviesPath, newline='', encoding='ISO-8859-1') as csvfile:\n",
    "                movieReader = csv.reader(csvfile)\n",
    "                next(movieReader)  #Skip header line\n",
    "                for row in movieReader:\n",
    "                    movieID = int(row[0])\n",
    "                    movieName = row[1]\n",
    "                    self.movieID_to_name[movieID] = movieName\n",
    "                    self.name_to_movieID[movieName] = movieID\n",
    "\n",
    "        return ratingsDataset\n",
    "    \n",
    "    def getMovieName(self, movieID):\n",
    "        if movieID in self.movieID_to_name:\n",
    "            return self.movieID_to_name[movieID]\n",
    "        else:\n",
    "            return \"\"\n",
    "        \n",
    "    def getMovieID(self, movieName):\n",
    "        if movieName in self.name_to_movieID:\n",
    "            return self.name_to_movieID[movieName]\n",
    "        else:\n",
    "            return 0"
   ]
  },
  {
   "cell_type": "code",
   "execution_count": 11,
   "metadata": {},
   "outputs": [],
   "source": [
    "ml = MovieLens()\n",
    "data = ml.loadMovieLensLatestSmall()"
   ]
  },
  {
   "cell_type": "code",
   "execution_count": 38,
   "metadata": {},
   "outputs": [],
   "source": [
    "trainSet = data.build_full_trainset()"
   ]
  },
  {
   "cell_type": "code",
   "execution_count": 49,
   "metadata": {},
   "outputs": [],
   "source": [
    "testSubject = '672'"
   ]
  },
  {
   "cell_type": "code",
   "execution_count": 65,
   "metadata": {},
   "outputs": [],
   "source": [
    "# User-based KNN\n",
    "UserKNN = KNNWithMeans(sim_options = {'name': 'msd', 'user_based': True})\n",
    "\n",
    "# Item-based KNN\n",
    "ItemKNN = KNNBasic(sim_options = {'name': 'msd', 'user_based': False})"
   ]
  },
  {
   "cell_type": "code",
   "execution_count": 66,
   "metadata": {
    "scrolled": true
   },
   "outputs": [
    {
     "name": "stdout",
     "output_type": "stream",
     "text": [
      "Computing the msd similarity matrix...\n",
      "Done computing similarity matrix.\n",
      "Computing recommendations...\n",
      "\n",
      "We recommend:\n",
      "Step Into Liquid (2002) 5\n",
      "Walking and Talking (1996) 5\n",
      "Daytrippers, The (1996) 5\n",
      "Taste of Cherry (Ta'm e guilass) (1997) 5\n",
      "Character (Karakter) (1997) 5\n",
      "Ipcress File, The (1965) 5\n",
      "Rosetta (1999) 5\n",
      "Yojimbo (1961) 5\n",
      "War Zone, The (1999) 5\n",
      "Mifune's Last Song (Mifunes sidste sang) (1999) 5\n"
     ]
    }
   ],
   "source": [
    "UserKNN.fit(trainSet)\n",
    "            \n",
    "print(\"Computing recommendations...\")\n",
    "\n",
    "fill = trainSet.global_mean\n",
    "anti_testset = []\n",
    "u = trainSet.to_inner_uid(str(testSubject))\n",
    "user_items = set([j for (j, _) in trainSet.ur[u]])\n",
    "anti_testset += [(trainSet.to_raw_uid(u), trainSet.to_raw_iid(i), fill) for\n",
    "                         i in trainSet.all_items() if\n",
    "                         i not in user_items]\n",
    "\n",
    "predictions = UserKNN.test(anti_testset)\n",
    "\n",
    "recommendations = []\n",
    "\n",
    "print (\"\\nWe recommend:\")\n",
    "for userID, movieID, actualRating, estimatedRating, _ in predictions:\n",
    "    intMovieID = int(movieID)\n",
    "    recommendations.append((intMovieID, estimatedRating))\n",
    "\n",
    "recommendations.sort(key=lambda x: x[1], reverse=True)\n",
    "\n",
    "for ratings in recommendations[:10]:\n",
    "    print(ml.getMovieName(ratings[0]), ratings[1])"
   ]
  },
  {
   "cell_type": "code",
   "execution_count": 54,
   "metadata": {},
   "outputs": [
    {
     "data": {
      "text/plain": [
       "{106, 143, 278, 412, 417, 480, 1527, 1753, 1796}"
      ]
     },
     "execution_count": 54,
     "metadata": {},
     "output_type": "execute_result"
    }
   ],
   "source": [
    "user_items"
   ]
  }
 ],
 "metadata": {
  "kernelspec": {
   "display_name": "Python 3",
   "language": "python",
   "name": "python3"
  },
  "language_info": {
   "codemirror_mode": {
    "name": "ipython",
    "version": 3
   },
   "file_extension": ".py",
   "mimetype": "text/x-python",
   "name": "python",
   "nbconvert_exporter": "python",
   "pygments_lexer": "ipython3",
   "version": "3.8.2"
  }
 },
 "nbformat": 4,
 "nbformat_minor": 2
}
